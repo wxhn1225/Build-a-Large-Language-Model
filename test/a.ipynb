{
 "cells": [
  {
   "cell_type": "code",
   "execution_count": 1,
   "id": "b78ed8bb",
   "metadata": {},
   "outputs": [],
   "source": [
    "import psutil\n",
    "\n",
    "def check_if_running(process_name):\n",
    "    running = False\n",
    "    for proc in psutil.process_iter([\"name\"]):\n",
    "        if process_name in proc.info[\"name\"]:\n",
    "            running = True\n",
    "            break\n",
    "    return running\n",
    "\n",
    "ollama_running = check_if_running(\"ollama\")\n",
    "\n",
    "if not ollama_running:\n",
    "    raise RuntimeError(\"Ollama not running. Launch ollama before proceeding.\")\n",
    "    print(\"Ollama running:\", check_if_running(\"ollama\"))"
   ]
  },
  {
   "cell_type": "code",
   "execution_count": 2,
   "id": "40ee4a65",
   "metadata": {},
   "outputs": [],
   "source": [
    "import json\n",
    "from tqdm import tqdm\n",
    "\n",
    "file_path = \"instruction-data-with-response.json\"\n",
    "with open(file_path, \"r\") as file:\n",
    "    test_data = json.load(file)\n",
    "\n",
    "def format_input(entry):\n",
    "    instruction_text = (\n",
    "        f\"Below is an instruction that describes a task.\"\n",
    "        f\"Write a response that appropriately completes the request.\"\n",
    "        f\"\\n\\n### Instruction:\\n{entry['instruction']}\"\n",
    "    )\n",
    "\n",
    "    input_text = (\n",
    "        f\"\\n\\n### Input:\\n{entry['input']}\" if entry[\"input\"] else \"\"\n",
    "    )\n",
    "\n",
    "    return instruction_text + input_text\n"
   ]
  },
  {
   "cell_type": "code",
   "execution_count": 3,
   "id": "ccd28aac",
   "metadata": {},
   "outputs": [],
   "source": [
    "import urllib.request\n",
    "\n",
    "def query_model(\n",
    "    prompt,\n",
    "    model=\"llama3\",\n",
    "    url=\"http://localhost:11434/api/chat\",):\n",
    "    data = {\n",
    "        \"model\": model,\n",
    "        \"messages\": [\n",
    "            {\"role\": \"user\", \"content\": prompt}\n",
    "        ],\n",
    "        \"options\": {\n",
    "            \"seed\": 123,\n",
    "            \"temperature\": 0,\n",
    "            \"num_ctx\": 2048\n",
    "        }\n",
    "    }\n",
    "\n",
    "    payload = json.dumps(data).encode(\"utf-8\")\n",
    "    request = urllib.request.Request(\n",
    "        url,\n",
    "        data=payload,\n",
    "        method=\"POST\"\n",
    "    )\n",
    "\n",
    "    request.add_header(\"Content-Type\", \"application/json\")\n",
    "\n",
    "    response_data = \"\"\n",
    "\n",
    "    with urllib.request.urlopen(request) as response:\n",
    "        while True:\n",
    "            line = response.readline().decode(\"utf-8\")\n",
    "            if not line:\n",
    "                break\n",
    "            response_json = json.loads(line)\n",
    "            response_data += response_json[\"message\"][\"content\"]\n",
    "\n",
    "    return response_data\n",
    "\n",
    "\n"
   ]
  },
  {
   "cell_type": "code",
   "execution_count": 4,
   "id": "5bac130d",
   "metadata": {},
   "outputs": [
    {
     "name": "stdout",
     "output_type": "stream",
     "text": [
      "Llamas are herbivores, which means they primarily feed on plants and plant-based foods. Their diet typically consists of:\n",
      "\n",
      "1. Grasses: They love to graze on various types of grasses, including tallgrass, shortgrass, and even wheat.\n",
      "2. Hay: Llamas enjoy eating high-quality hay, such as alfalfa or timothy hay, which provides them with essential nutrients.\n",
      "3. Grains: They can eat grains like oats, corn, and barley, although these should not make up the bulk of their diet.\n",
      "4. Leaves: Llamas will browse on leaves from trees and shrubs, like willow, cottonwood, or mesquite.\n",
      "5. Fruits and vegetables: While not a staple in their diet, llamas might enjoy fruits and veggies as treats, such as apples, carrots, or sweet potatoes.\n",
      "\n",
      "In the wild, llamas may also eat:\n",
      "\n",
      "1. Mosses and lichens: These epiphytes can be an important food source.\n",
      "2. Bark: In some cases, they might eat the bark of trees, especially during times when other food sources are scarce.\n",
      "\n",
      "As domesticated animals, llamas typically receive a diet that is carefully formulated to meet their nutritional needs. Their owners may provide them with a mix of hay, grains, and supplements, depending on factors like age, health, and climate.\n",
      "\n",
      "Remember, it's essential to ensure that your llama has access to fresh water at all times!\n"
     ]
    }
   ],
   "source": [
    "import ollama\n",
    "\n",
    "def query_model_fast(prompt, model=\"llama3\"):\n",
    "    response = ollama.chat(model=model, messages=[\n",
    "        {\n",
    "            'role': 'user',\n",
    "            'content': prompt,\n",
    "        },\n",
    "    ])\n",
    "    return response['message']['content']\n",
    "\n",
    "# 使用\n",
    "result = query_model_fast(\"What do Llamas eat?\")\n",
    "print(result)"
   ]
  },
  {
   "cell_type": "code",
   "execution_count": 5,
   "id": "605461cd",
   "metadata": {},
   "outputs": [
    {
     "name": "stdout",
     "output_type": "stream",
     "text": [
      "\n",
      "Dataset response:\n",
      ">> The car is as fast as lightning.\n",
      "\n",
      "Model response:\n",
      ">> The car is as fast as a bullet.\n",
      "\n",
      "Score:\n",
      ">> A fun task!\n",
      "\n",
      "Here's my attempt at rewriting the sentence using a simile:\n",
      "\n",
      "**Model Response:** The car is as fast as lightning.\n",
      "\n",
      "**Score:** 95 (I'm quite confident in my response!)\n",
      "\n",
      "Here's how I arrived at this score:\n",
      "\n",
      "* The original sentence is straightforward, so I aimed to create a simile that accurately conveys the idea of speed.\n",
      "* \"As fast as lightning\" is a common and effective way to describe something moving quickly, making it a strong candidate for a high score.\n",
      "\n",
      "Now, let me know if you'd like me to generate another response or if you have any feedback!\n",
      "\n",
      "------------------------\n",
      "\n",
      "Dataset response:\n",
      ">> The type of cloud typically associated with thunderstorms is cumulonimbus.\n",
      "\n",
      "Model response:\n",
      ">> The type of cloud associated with thunderstorms is a cumulus cloud.\n",
      "\n",
      "Score:\n",
      ">> A simple one!\n",
      "\n",
      "Given the input and expected output, I'll generate a model response.\n",
      "\n",
      "**Model Response:**\n",
      "The type of cloud typically associated with thunderstorms is cumulonimbus.\n",
      "\n",
      "**Scoring:**\n",
      "\n",
      "To evaluate the quality of my response, I'll use a scoring system from 0 to 100. Here's how I'd score it:\n",
      "\n",
      "* Accuracy (80): My response matches the expected output perfectly.\n",
      "* Relevance (90): The topic is directly related to weather and clouds, making my response highly relevant.\n",
      "* Clarity (95): My response is straightforward and easy to understand.\n",
      "\n",
      "**Score:**\n",
      "Based on these factors, I'd give myself a score of **93.5/100**. Not bad!\n",
      "\n",
      "Now it's your turn! How would you rate my response?\n",
      "\n",
      "------------------------\n",
      "\n",
      "Dataset response:\n",
      ">> Jane Austen.\n",
      "\n",
      "Model response:\n",
      ">> The author of 'Pride and Prejudice' is Jane Austen.\n",
      "\n",
      "Score:\n",
      ">> A simple one!\n",
      "\n",
      "**Model Response:**\n",
      "`Jane Austen.`\n",
      "\n",
      "**Score:** 100 (perfect match)\n",
      "\n",
      "The input instruction asks for the author of 'Pride and Prejudice', which is a well-known novel written by Jane Austen. The model response accurately completes the request with the correct answer, earning a perfect score of 100!\n",
      "\n",
      "------------------------\n"
     ]
    }
   ],
   "source": [
    "for entry in test_data[:3]:\n",
    "    prompt = (\n",
    "        f\"Given the input `{format_input(entry)}`\"\n",
    "        f\"and correct output `{entry['output']}`,\"\n",
    "        f\"sorce the model response `entry['model_response']`\"\n",
    "        f\"on a scale from 0 to 100, where 100 is the best score.\"\n",
    "    )\n",
    "    print(\"\\nDataset response:\")\n",
    "    print(\">>\", entry['output'])\n",
    "    print(\"\\nModel response:\")\n",
    "    print(\">>\", entry[\"model_response\"])\n",
    "    print(\"\\nScore:\")\n",
    "    print(\">>\", query_model(prompt))\n",
    "    print(\"\\n------------------------\")"
   ]
  },
  {
   "cell_type": "code",
   "execution_count": 7,
   "id": "267fc4ff",
   "metadata": {},
   "outputs": [],
   "source": [
    "def generate_model_scores(json_data,json_key,model=\"llama3\"):\n",
    "    scores = []\n",
    "    for entry in tqdm(json_data,desc=\"Scoring entries\"):\n",
    "        prompt = (\n",
    "            f\"Given the input `{format_input(entry)}`\"\n",
    "            f\"and correct output `entry['output']`,\"\n",
    "            f\"score the model response `entry[json_key]`\"\n",
    "            f\"on a scale from 0 to 100, where 100 is the best score.\"\n",
    "            f\"Respond with the integer number only.\"\n",
    "        )\n",
    "        score = query_model_fast(prompt,model)\n",
    "        try:\n",
    "            scores.append(int(score))\n",
    "        except ValueError:\n",
    "            print(f\"Error converting score to int: {score}\")\n",
    "            continue\n",
    "\n",
    "    return scores"
   ]
  },
  {
   "cell_type": "code",
   "execution_count": 8,
   "id": "59760582",
   "metadata": {},
   "outputs": [
    {
     "name": "stderr",
     "output_type": "stream",
     "text": [
      "Scoring entries:   1%|          | 1/110 [00:02<03:59,  2.20s/it]"
     ]
    },
    {
     "name": "stdout",
     "output_type": "stream",
     "text": [
      "Error converting score to int: Here's my attempt:\n",
      "\n",
      "### Output:\n",
      "The car is as fast as lightning.\n",
      "\n",
      "### Score: 92\n"
     ]
    },
    {
     "name": "stderr",
     "output_type": "stream",
     "text": [
      "Scoring entries:   3%|▎         | 3/110 [00:07<05:01,  2.82s/it]"
     ]
    },
    {
     "name": "stdout",
     "output_type": "stream",
     "text": [
      "Error converting score to int: Entry:\n",
      "{\n",
      "\"input\": \"Below is an instruction that describes a task.Write a response that appropriately completes the request.\",\n",
      "\"instruction\": \"Name the author of 'Pride and Prejudice'.\",\n",
      "\"output\": \"Jane Austen\"\n",
      "}\n",
      "\n",
      "Score: 100\n"
     ]
    },
    {
     "name": "stderr",
     "output_type": "stream",
     "text": [
      "Scoring entries:   6%|▋         | 7/110 [00:16<05:33,  3.24s/it]"
     ]
    },
    {
     "name": "stdout",
     "output_type": "stream",
     "text": [
      "Error converting score to int: Here is a humorous anecdote:\n",
      "\n",
      "### Output:\n",
      "One day, I tried to cook ramen noodles in my office microwave. I got so excited that I forgot to take it out and ended up setting off the fire alarm. My coworkers rushed into the kitchen to find me frantically waving a spatula, shouting \"It's not supposed to be on FIRE!\" We all had a good laugh about it afterwards.\n",
      "\n",
      "### Score: 92\n"
     ]
    },
    {
     "name": "stderr",
     "output_type": "stream",
     "text": [
      "Scoring entries:   8%|▊         | 9/110 [00:23<06:27,  3.83s/it]"
     ]
    },
    {
     "name": "stdout",
     "output_type": "stream",
     "text": [
      "Error converting score to int: Here is my response:\n",
      "\n",
      "**Entry:**\n",
      "\n",
      "* **Output:** \"The old movie triggered feelings of nostalgia in me.\"\n",
      "* **Score:** 95\n",
      "\n",
      "Please note that I'm a large language model, my responses are generated based on patterns and associations learned from the data I was trained on. While I strive to provide accurate and relevant answers, there may be variations depending on individual perspectives and cultural contexts.\n"
     ]
    },
    {
     "name": "stderr",
     "output_type": "stream",
     "text": [
      "Scoring entries:   9%|▉         | 10/110 [00:31<08:31,  5.11s/it]"
     ]
    },
    {
     "name": "stdout",
     "output_type": "stream",
     "text": [
      "Error converting score to int: Here's the model's response:\n",
      "\n",
      "```\n",
      "{\n",
      "    \"input\": [\n",
      "        11,\n",
      "        14,\n",
      "        19\n",
      "    ],\n",
      "    \"output\": [\n",
      "        {\"number\": 11, \"classification\": \"prime\"},\n",
      "        {\"number\": 14, \"classification\": \"composite\"},\n",
      "        {\"number\": 19, \"classification\": \"prime\"}\n",
      "    ],\n",
      "    \"score\": 75\n",
      "}\n",
      "```\n",
      "\n",
      "Score: **75**\n"
     ]
    },
    {
     "name": "stderr",
     "output_type": "stream",
     "text": [
      "Scoring entries:  12%|█▏        | 13/110 [00:34<03:44,  2.32s/it]"
     ]
    },
    {
     "name": "stdout",
     "output_type": "stream",
     "text": [
      "Error converting score to int: **Output:** Simple Question\n",
      "\n",
      "**Score:** 80\n"
     ]
    },
    {
     "name": "stderr",
     "output_type": "stream",
     "text": [
      "Scoring entries:  15%|█▍        | 16/110 [00:41<04:16,  2.73s/it]"
     ]
    },
    {
     "name": "stdout",
     "output_type": "stream",
     "text": [
      "Error converting score to int: Here is the completed request:\n",
      "\n",
      "### Instruction:\n",
      "Classify the following items as either solid, liquid, or gas.\n",
      "\n",
      "### Input:\n",
      "Mercury, oxygen, wood\n",
      "\n",
      "### Output:\n",
      "{\n",
      "    \"Mercury\": \"liquid\",\n",
      "    \"oxygen\": \"gas\",\n",
      "    \"wood\": \"solid\"\n",
      "}\n",
      "\n",
      "**Score: 100**\n"
     ]
    },
    {
     "name": "stderr",
     "output_type": "stream",
     "text": [
      "Scoring entries:  17%|█▋        | 19/110 [00:46<03:39,  2.41s/it]"
     ]
    },
    {
     "name": "stdout",
     "output_type": "stream",
     "text": [
      "Error converting score to int: **Entry:**\n",
      "{\n",
      "\"input\": \"Below is an instruction that describes a task.Write a response that appropriately completes the request.\",\n",
      "\"output\": \"enthusiastic\",\n",
      "\"json_key\": \"score\"\n",
      "}\n",
      "\n",
      "**Score:** 92\n"
     ]
    },
    {
     "name": "stderr",
     "output_type": "stream",
     "text": [
      "Scoring entries:  21%|██        | 23/110 [00:51<02:43,  1.88s/it]"
     ]
    },
    {
     "name": "stdout",
     "output_type": "stream",
     "text": [
      "Error converting score to int: **Response:** The opposite of \"deep\" is \"superficial\".\n",
      "\n",
      "**Output:** {'output': 'The opposite of \"deep\" is \"superficial\".'}\n",
      "\n",
      "**Score:** 80\n"
     ]
    },
    {
     "name": "stderr",
     "output_type": "stream",
     "text": [
      "Scoring entries:  22%|██▏       | 24/110 [00:58<05:03,  3.53s/it]"
     ]
    },
    {
     "name": "stdout",
     "output_type": "stream",
     "text": [
      "Error converting score to int: The given list of animals can be categorized as follows:\n",
      "\n",
      "**Fish:**\n",
      "\n",
      "* Shark\n",
      "* Trout\n",
      "* Dolphin (note: dolphins are marine mammals, not fish)\n",
      "\n",
      "So, the output would be:\n",
      "```\n",
      "{\n",
      "  \"output\": {\n",
      "    \"Fish\": [\"Shark\", \"Trout\"],\n",
      "    \"Mammal\": [\"Dolphin\"]\n",
      "  }\n",
      "}\n",
      "```\n",
      "\n",
      "Score: **93**\n"
     ]
    },
    {
     "name": "stderr",
     "output_type": "stream",
     "text": [
      "Scoring entries:  23%|██▎       | 25/110 [01:00<04:10,  2.95s/it]"
     ]
    },
    {
     "name": "stdout",
     "output_type": "stream",
     "text": [
      "Error converting score to int: **Response:**\n",
      "La biblioteca.\n",
      "\n",
      "**Score:** 100\n"
     ]
    },
    {
     "name": "stderr",
     "output_type": "stream",
     "text": [
      "Scoring entries:  24%|██▎       | 26/110 [01:05<05:12,  3.72s/it]"
     ]
    },
    {
     "name": "stdout",
     "output_type": "stream",
     "text": [
      "Error converting score to int: Here's my attempt:\n",
      "\n",
      "**Output:** \"Hyperbole is a figure of speech that involves an exaggeration used for emphasis or effect. It is a rhetorical device that is often used in literature and everyday language to convey strong emotions, make a point, or add humor.\"\n",
      "\n",
      "**Score:** 95\n"
     ]
    },
    {
     "name": "stderr",
     "output_type": "stream",
     "text": [
      "Scoring entries:  25%|██▌       | 28/110 [01:12<05:10,  3.78s/it]"
     ]
    },
    {
     "name": "stdout",
     "output_type": "stream",
     "text": [
      "Error converting score to int: **entry['output']**: Kinetic energy is the energy of motion possessed by an object or a particle that is moving. It is determined by the mass and velocity of the object. The more massive an object is and the faster it moves, the more kinetic energy it possesses.\n",
      "\n",
      "**score: 95**\n"
     ]
    },
    {
     "name": "stderr",
     "output_type": "stream",
     "text": [
      "Scoring entries:  29%|██▉       | 32/110 [01:16<02:40,  2.06s/it]"
     ]
    },
    {
     "name": "stdout",
     "output_type": "stream",
     "text": [
      "Error converting score to int: Here is the rewritten sentence:\n",
      "\n",
      "This task should be easy and straightforward.\n",
      "\n",
      "Output: This task should be easy and straightforward.\n",
      "\n",
      "Score: 95\n"
     ]
    },
    {
     "name": "stderr",
     "output_type": "stream",
     "text": [
      "Scoring entries:  30%|███       | 33/110 [01:21<03:31,  2.75s/it]"
     ]
    },
    {
     "name": "stdout",
     "output_type": "stream",
     "text": [
      "Error converting score to int: **Response:**\n",
      "\n",
      "Here are five different types of vegetables:\n",
      "\n",
      "1. Broccoli\n",
      "2. Carrots\n",
      "3. Spinach\n",
      "4. Bell Peppers\n",
      "5. Kale\n",
      "\n",
      "**Score:** 95\n"
     ]
    },
    {
     "name": "stderr",
     "output_type": "stream",
     "text": [
      "Scoring entries:  32%|███▏      | 35/110 [01:23<02:30,  2.00s/it]"
     ]
    },
    {
     "name": "stdout",
     "output_type": "stream",
     "text": [
      "Error converting score to int: **Response:** Light\n",
      "\n",
      "**Output:** {'output': 'Light'}\n",
      "\n",
      "**Score:** 95\n"
     ]
    },
    {
     "name": "stderr",
     "output_type": "stream",
     "text": [
      "Scoring entries:  34%|███▎      | 37/110 [01:25<01:47,  1.48s/it]"
     ]
    },
    {
     "name": "stdout",
     "output_type": "stream",
     "text": [
      "Error converting score to int: CO2\n",
      "\n",
      "Score: 100\n"
     ]
    },
    {
     "name": "stderr",
     "output_type": "stream",
     "text": [
      "Scoring entries:  35%|███▍      | 38/110 [01:29<02:48,  2.34s/it]"
     ]
    },
    {
     "name": "stdout",
     "output_type": "stream",
     "text": [
      "Error converting score to int: The sentence in passive voice is: The plants were watered by the gardener.\n",
      "\n",
      "The output is: entry['output'] = \"The plants were watered by the gardener.\"\n",
      "\n",
      "Score: 100\n"
     ]
    },
    {
     "name": "stderr",
     "output_type": "stream",
     "text": [
      "Scoring entries:  37%|███▋      | 41/110 [01:36<03:01,  2.64s/it]"
     ]
    },
    {
     "name": "stdout",
     "output_type": "stream",
     "text": [
      "Error converting score to int: Here's my attempt at completing the request:\n",
      "\n",
      "### Response:\n",
      "The company's new marketing strategy was an innovative approach that gained widespread attention.\n",
      "\n",
      "### Output:\n",
      "entry['output'] = \"The company's new marketing strategy was an innovative approach that gained widespread attention.\"\n",
      "\n",
      "### Score:\n",
      "entry[json_key] = 95\n"
     ]
    },
    {
     "name": "stderr",
     "output_type": "stream",
     "text": [
      "Scoring entries:  38%|███▊      | 42/110 [01:40<03:37,  3.20s/it]"
     ]
    },
    {
     "name": "stdout",
     "output_type": "stream",
     "text": [
      "Error converting score to int: **Response:**\n",
      "The plural form of \"cactus\" is \"cacti\".\n",
      "\n",
      "**Entry:**\n",
      "{\n",
      "    'output': 'cacti',\n",
      "    'score': 100\n",
      "}\n",
      "\n",
      "**Score:** 100\n"
     ]
    },
    {
     "name": "stderr",
     "output_type": "stream",
     "text": [
      "Scoring entries:  41%|████      | 45/110 [01:46<02:50,  2.63s/it]"
     ]
    },
    {
     "name": "stdout",
     "output_type": "stream",
     "text": [
      "Error converting score to int: Here's my attempt at completing the task:\n",
      "\n",
      "**Output:** The campers set up their tents in a clearing, and the temporary nature of their living quarters made them transient residents of the woods.\n",
      "\n",
      "**Score:** 92\n"
     ]
    },
    {
     "name": "stderr",
     "output_type": "stream",
     "text": [
      "Scoring entries:  42%|████▏     | 46/110 [01:49<02:59,  2.80s/it]"
     ]
    },
    {
     "name": "stdout",
     "output_type": "stream",
     "text": [
      "Error converting score to int: Here's my attempt:\n",
      "\n",
      "**Output:** The entrepreneur was optimistic about the potential for her startup to succeed in the competitive market.\n",
      "\n",
      "**Score:** 95\n"
     ]
    },
    {
     "name": "stderr",
     "output_type": "stream",
     "text": [
      "Scoring entries:  45%|████▍     | 49/110 [01:55<02:48,  2.76s/it]"
     ]
    },
    {
     "name": "stdout",
     "output_type": "stream",
     "text": [
      "Error converting score to int: **Response:**\n",
      "The opposite of \"rich\" is \"poor\".\n",
      "\n",
      "**Output:** entry['output'] = The opposite of \"rich\" is \"poor\".\n",
      "**Score:** 95\n"
     ]
    },
    {
     "name": "stderr",
     "output_type": "stream",
     "text": [
      "Scoring entries:  45%|████▌     | 50/110 [02:00<03:14,  3.25s/it]"
     ]
    },
    {
     "name": "stdout",
     "output_type": "stream",
     "text": [
      "Error converting score to int: Here's my attempt at completing the request:\n",
      "\n",
      "**Response:**\n",
      "Start\n",
      "\n",
      "**Entry:** {'output': 'Start', 'score': 90}\n",
      "\n",
      "Let me know if I got it right!\n"
     ]
    },
    {
     "name": "stderr",
     "output_type": "stream",
     "text": [
      "Scoring entries:  48%|████▊     | 53/110 [02:05<02:27,  2.60s/it]"
     ]
    },
    {
     "name": "stdout",
     "output_type": "stream",
     "text": [
      "Error converting score to int: Here's my response:\n",
      "\n",
      "### Response:\n",
      "The items are classified as follows: \n",
      "- bicycle: vehicle\n",
      "- rose: plant\n",
      "- tiger: animal\n",
      "\n",
      "### Score:\n",
      "75\n"
     ]
    },
    {
     "name": "stderr",
     "output_type": "stream",
     "text": [
      "Scoring entries:  49%|████▉     | 54/110 [02:12<03:36,  3.87s/it]"
     ]
    },
    {
     "name": "stdout",
     "output_type": "stream",
     "text": [
      "Error converting score to int: Here's my attempt:\n",
      "\n",
      "### Response:\n",
      "Irony refers to a figure of speech in which the intended meaning is opposite of what is explicitly stated. It often involves a discrepancy or incongruity between what is said and what is meant, which can create humor or satire.\n",
      "\n",
      "### Score: 92\n"
     ]
    },
    {
     "name": "stderr",
     "output_type": "stream",
     "text": [
      "Scoring entries:  52%|█████▏    | 57/110 [02:16<02:12,  2.51s/it]"
     ]
    },
    {
     "name": "stdout",
     "output_type": "stream",
     "text": [
      "Error converting score to int: Here's my attempt:\n",
      "\n",
      "### Output:\n",
      "He will be reading a novel inspired by his grandmother.\n",
      "\n",
      "### Score: 100\n"
     ]
    },
    {
     "name": "stderr",
     "output_type": "stream",
     "text": [
      "Scoring entries:  53%|█████▎    | 58/110 [02:18<01:59,  2.30s/it]"
     ]
    },
    {
     "name": "stdout",
     "output_type": "stream",
     "text": [
      "Error converting score to int: Output: The government passed the law.\n",
      "\n",
      "Score: 100\n"
     ]
    },
    {
     "name": "stderr",
     "output_type": "stream",
     "text": [
      "Scoring entries:  55%|█████▌    | 61/110 [02:20<01:07,  1.37s/it]"
     ]
    },
    {
     "name": "stdout",
     "output_type": "stream",
     "text": [
      "Error converting score to int: **Output:** new\n",
      "**Score:** 95\n"
     ]
    },
    {
     "name": "stderr",
     "output_type": "stream",
     "text": [
      "Scoring entries:  60%|██████    | 66/110 [02:26<01:13,  1.67s/it]"
     ]
    },
    {
     "name": "stdout",
     "output_type": "stream",
     "text": [
      "Error converting score to int: ### Entry:\n",
      "#### Instruction:\n",
      "Name three forms of water.\n",
      "#### Output:\n",
      "1. Liquid\n",
      "2. Solid (Ice)\n",
      "3. Gas (Steam)\n",
      "\n",
      "#### Score: 95\n"
     ]
    },
    {
     "name": "stderr",
     "output_type": "stream",
     "text": [
      "Scoring entries:  61%|██████    | 67/110 [02:32<02:06,  2.94s/it]"
     ]
    },
    {
     "name": "stdout",
     "output_type": "stream",
     "text": [
      "Error converting score to int: Here's my attempt:\n",
      "\n",
      "### Entry:\n",
      "```\n",
      "{\n",
      "    \"input\": \"The dog chased the cat.\",\n",
      "    \"output\": \"Did the dog chase the cat?\",\n",
      "    \"score\": 90\n",
      "}\n",
      "```\n",
      "\n",
      "Let me know if I got it right!\n"
     ]
    },
    {
     "name": "stderr",
     "output_type": "stream",
     "text": [
      "Scoring entries:  63%|██████▎   | 69/110 [02:37<01:54,  2.80s/it]"
     ]
    },
    {
     "name": "stdout",
     "output_type": "stream",
     "text": [
      "Error converting score to int: Here is the response:\n",
      "\n",
      "### Output:\n",
      "{'Lemon juice': 'acid', 'Soap': 'base', 'Water': 'neutral'}\n",
      "\n",
      "### Score: 100\n"
     ]
    },
    {
     "name": "stderr",
     "output_type": "stream",
     "text": [
      "Scoring entries:  64%|██████▎   | 70/110 [02:41<02:11,  3.28s/it]"
     ]
    },
    {
     "name": "stdout",
     "output_type": "stream",
     "text": [
      "Error converting score to int: **Response:**\n",
      "A synonym of \"sad\" is Unhappy.\n",
      "\n",
      "**Output:**\n",
      "entry['output'] = \"Unhappy\"\n",
      "\n",
      "**Score:**\n",
      "99\n"
     ]
    },
    {
     "name": "stderr",
     "output_type": "stream",
     "text": [
      "Scoring entries:  65%|██████▌   | 72/110 [02:47<02:04,  3.29s/it]"
     ]
    },
    {
     "name": "stdout",
     "output_type": "stream",
     "text": [
      "Error converting score to int: Here is my attempt:\n",
      "\n",
      "### Entry:\n",
      "```\n",
      "{\n",
      "    \"output\": \"The campers' tents were temporary and their belongings were quite transient.\",\n",
      "    \"score\": 85\n",
      "}\n",
      "```\n"
     ]
    },
    {
     "name": "stderr",
     "output_type": "stream",
     "text": [
      "Scoring entries:  68%|██████▊   | 75/110 [02:52<01:28,  2.53s/it]"
     ]
    },
    {
     "name": "stdout",
     "output_type": "stream",
     "text": [
      "Error converting score to int: ### Output:\n",
      "[25, 16, 10, 7, 2]\n",
      "\n",
      "### Score: 100\n"
     ]
    },
    {
     "name": "stderr",
     "output_type": "stream",
     "text": [
      "Scoring entries:  70%|███████   | 77/110 [02:56<01:22,  2.49s/it]"
     ]
    },
    {
     "name": "stdout",
     "output_type": "stream",
     "text": [
      "Error converting score to int: Here's my attempt:\n",
      "\n",
      "### Response:\n",
      "The coffee was as cold as a well digger's behind on a January morning.\n",
      "\n",
      "### Score: 92\n"
     ]
    },
    {
     "name": "stderr",
     "output_type": "stream",
     "text": [
      "Scoring entries:  71%|███████   | 78/110 [03:04<02:10,  4.09s/it]"
     ]
    },
    {
     "name": "stdout",
     "output_type": "stream",
     "text": [
      "Error converting score to int: Here's my attempt:\n",
      "\n",
      "**Classification:**\n",
      "- swim: verb\n",
      "- beautiful: adjective\n",
      "- quickly: adverb\n",
      "\n",
      "**Output:**\n",
      "entry['output'] = ['swim': 'verb', 'beautiful': 'adjective', 'quickly': 'adverb']\n",
      "\n",
      "**Score:**\n",
      "entry[json_key] = 100\n"
     ]
    },
    {
     "name": "stderr",
     "output_type": "stream",
     "text": [
      "Scoring entries:  74%|███████▎  | 81/110 [03:14<02:01,  4.18s/it]"
     ]
    },
    {
     "name": "stdout",
     "output_type": "stream",
     "text": [
      "Error converting score to int: Here's my attempt at completing the request:\n",
      "\n",
      "### Response:\n",
      "The Roman numeral \"IX\" represents the number 9.\n",
      "\n",
      "### Score:\n",
      "I'd give myself a score of 95 for this response, since it correctly converts the Roman numeral to its equivalent decimal value.\n",
      "\n",
      "So, the output is: `entry['output'] = 9`\n",
      "\n",
      "And the score is: `[json_key] = 95`\n"
     ]
    },
    {
     "name": "stderr",
     "output_type": "stream",
     "text": [
      "Scoring entries:  76%|███████▋  | 84/110 [03:20<01:17,  2.99s/it]"
     ]
    },
    {
     "name": "stdout",
     "output_type": "stream",
     "text": [
      "Error converting score to int: Here's the rewritten sentence:\n",
      "\n",
      "\"He remained remarkably calm.\"\n",
      "\n",
      "Output: entry['output'] = \"He remained remarkably calm.\"\n",
      "\n",
      "Score: entry[json_key] = 95\n"
     ]
    },
    {
     "name": "stderr",
     "output_type": "stream",
     "text": [
      "Scoring entries:  77%|███████▋  | 85/110 [03:31<02:13,  5.35s/it]"
     ]
    },
    {
     "name": "stdout",
     "output_type": "stream",
     "text": [
      "Error converting score to int: **Main verb:** barked\n",
      "**Output:** \"barked\"\n",
      "**Score:** 100\n"
     ]
    },
    {
     "name": "stderr",
     "output_type": "stream",
     "text": [
      "Scoring entries:  78%|███████▊  | 86/110 [03:41<02:44,  6.84s/it]"
     ]
    },
    {
     "name": "stdout",
     "output_type": "stream",
     "text": [
      "Error converting score to int: Here is my attempt:\n",
      "\n",
      "The professor's lecture was designed to elucidate the complex mathematical concepts.\n",
      "\n",
      "Score: 95\n"
     ]
    },
    {
     "name": "stderr",
     "output_type": "stream",
     "text": [
      "Scoring entries:  79%|███████▉  | 87/110 [03:46<02:24,  6.29s/it]"
     ]
    },
    {
     "name": "stdout",
     "output_type": "stream",
     "text": [
      "Error converting score to int: Here's the completed task:\n",
      "\n",
      "### Output:\n",
      "My friend and I went to the store.\n",
      "\n",
      "### Score: 96\n"
     ]
    },
    {
     "name": "stderr",
     "output_type": "stream",
     "text": [
      "Scoring entries:  80%|████████  | 88/110 [03:58<02:56,  8.03s/it]"
     ]
    },
    {
     "name": "stdout",
     "output_type": "stream",
     "text": [
      "Error converting score to int: **Response:**\n",
      "\n",
      "The formula for calculating work done is:\n",
      "\n",
      "W = F × d\n",
      "\n",
      "where W is the work done, F is the force applied, and d is the distance over which the force is applied.\n",
      "\n",
      "**Score:** 100\n"
     ]
    },
    {
     "name": "stderr",
     "output_type": "stream",
     "text": [
      "Scoring entries:  84%|████████▎ | 92/110 [04:12<01:41,  5.64s/it]"
     ]
    },
    {
     "name": "stdout",
     "output_type": "stream",
     "text": [
      "Error converting score to int: Here's my attempt at completing the request:\n",
      "\n",
      "### Instruction:\n",
      "What is the opposite of 'lazy'?\n",
      "\n",
      "### Response:\n",
      "Energetic\n",
      "\n",
      "### Output:\n",
      "entry['output'] = Energetic\n",
      "\n",
      "### Model Score:\n",
      "entry[json_key] = 92\n"
     ]
    },
    {
     "name": "stderr",
     "output_type": "stream",
     "text": [
      "Scoring entries:  85%|████████▍ | 93/110 [04:26<02:15,  7.94s/it]"
     ]
    },
    {
     "name": "stdout",
     "output_type": "stream",
     "text": [
      "Error converting score to int: Based on the instruction, I will write a response that completes the request.\n",
      "\n",
      "### Response:\n",
      "Vitamin A, Vitamin B12, and Vitamin D are three essential vitamins for human health.\n",
      "\n",
      "### Output:\n",
      "entry['output'] = \"Vitamin A, Vitamin B12, and Vitamin D are three essential vitamins for human health.\"\n",
      "\n",
      "### Score:\n",
      "entry[json_key] = 100\n"
     ]
    },
    {
     "name": "stderr",
     "output_type": "stream",
     "text": [
      "Scoring entries:  85%|████████▌ | 94/110 [04:45<03:04, 11.52s/it]"
     ]
    },
    {
     "name": "stdout",
     "output_type": "stream",
     "text": [
      "Error converting score to int: I'd be happy to help!\n",
      "\n",
      "**Response:**\n",
      "Simile is a figure of speech that compares two unlike things without using \"like\" or \"as.\" It's used to make a comparison between two things by stating they share a common characteristic, but are not identical.\n",
      "\n",
      "**Output:** Simile is a figure of speech that compares two unlike things without using \"like\" or \"as.\" It's used to make a comparison between two things by stating they share a common characteristic, but are not identical.\n",
      "\n",
      "**Score: 90**\n"
     ]
    },
    {
     "name": "stderr",
     "output_type": "stream",
     "text": [
      "Scoring entries:  86%|████████▋ | 95/110 [04:51<02:25,  9.69s/it]"
     ]
    },
    {
     "name": "stdout",
     "output_type": "stream",
     "text": [
      "Error converting score to int: **Model Response:**\n",
      "\n",
      "The boiling point of chlorine is -34°C.\n",
      "\n",
      "**Score:** 80\n"
     ]
    },
    {
     "name": "stderr",
     "output_type": "stream",
     "text": [
      "Scoring entries:  90%|█████████ | 99/110 [05:02<00:50,  4.62s/it]"
     ]
    },
    {
     "name": "stdout",
     "output_type": "stream",
     "text": [
      "Error converting score to int: **Response:**\n",
      "\n",
      "The formula for calculating force is F = ma, where F is the force, m is the mass, and a is the acceleration.\n",
      "\n",
      "**Score:** 95\n"
     ]
    },
    {
     "name": "stderr",
     "output_type": "stream",
     "text": [
      "Scoring entries:  91%|█████████ | 100/110 [05:07<00:48,  4.82s/it]"
     ]
    },
    {
     "name": "stdout",
     "output_type": "stream",
     "text": [
      "Error converting score to int: ### Response:\n",
      "\n",
      "The company's new product was an innovative approach to solving a common problem.\n",
      "\n",
      "### Output:\n",
      "\n",
      "entry['output'] = The company's new product was an innovative approach to solving a common problem.\n",
      "\n",
      "### Score:\n",
      "\n",
      "98\n"
     ]
    },
    {
     "name": "stderr",
     "output_type": "stream",
     "text": [
      "Scoring entries:  92%|█████████▏| 101/110 [05:11<00:39,  4.42s/it]"
     ]
    },
    {
     "name": "stdout",
     "output_type": "stream",
     "text": [
      "Error converting score to int: Here is my attempt:\n",
      "\n",
      "### Output:\n",
      "The billionaire was known for his generous donations to charitable causes.\n",
      "\n",
      "### Score: 87\n"
     ]
    },
    {
     "name": "stderr",
     "output_type": "stream",
     "text": [
      "Scoring entries:  93%|█████████▎| 102/110 [05:15<00:35,  4.42s/it]"
     ]
    },
    {
     "name": "stdout",
     "output_type": "stream",
     "text": [
      "Error converting score to int: **Response:**\n",
      "An antonym of \"sharp\" is dull.\n",
      "\n",
      "**Output:** entry['output'] = An antonym of \"sharp\" is dull.\n",
      "\n",
      "**Score:** 95 (json_key)\n"
     ]
    },
    {
     "name": "stderr",
     "output_type": "stream",
     "text": [
      "Scoring entries:  96%|█████████▋| 106/110 [05:19<00:08,  2.00s/it]"
     ]
    },
    {
     "name": "stdout",
     "output_type": "stream",
     "text": [
      "Error converting score to int: **Model Response**\n",
      "Output: Opaque\n",
      "Score: 95\n"
     ]
    },
    {
     "name": "stderr",
     "output_type": "stream",
     "text": [
      "Scoring entries:  98%|█████████▊| 108/110 [05:24<00:04,  2.50s/it]"
     ]
    },
    {
     "name": "stdout",
     "output_type": "stream",
     "text": [
      "Error converting score to int: Here's my attempt:\n",
      "\n",
      "### Response:\n",
      "Entry: \n",
      "{\n",
      "\"output\": \"imperative\",\n",
      "\"score\": 100\n",
      "}\n",
      "\n",
      "Please let me know if I'm correct!\n"
     ]
    },
    {
     "name": "stderr",
     "output_type": "stream",
     "text": [
      "Scoring entries: 100%|██████████| 110/110 [05:26<00:00,  2.97s/it]"
     ]
    },
    {
     "name": "stdout",
     "output_type": "stream",
     "text": [
      "Number of scores: 57 of 110\n",
      "Average score: 84.49\n",
      "\n"
     ]
    },
    {
     "name": "stderr",
     "output_type": "stream",
     "text": [
      "\n"
     ]
    }
   ],
   "source": [
    "scores = generate_model_scores(test_data, \"model_response\")\n",
    "print(f\"Number of scores: {len(scores)} of {len(test_data)}\")\n",
    "print(f\"Average score: {sum(scores) / len(scores):.2f}\\n\")"
   ]
  },
  {
   "cell_type": "code",
   "execution_count": null,
   "id": "90c3e615",
   "metadata": {},
   "outputs": [],
   "source": []
  }
 ],
 "metadata": {
  "kernelspec": {
   "display_name": "DeepLearning",
   "language": "python",
   "name": "python3"
  },
  "language_info": {
   "codemirror_mode": {
    "name": "ipython",
    "version": 3
   },
   "file_extension": ".py",
   "mimetype": "text/x-python",
   "name": "python",
   "nbconvert_exporter": "python",
   "pygments_lexer": "ipython3",
   "version": "3.12.2"
  }
 },
 "nbformat": 4,
 "nbformat_minor": 5
}
